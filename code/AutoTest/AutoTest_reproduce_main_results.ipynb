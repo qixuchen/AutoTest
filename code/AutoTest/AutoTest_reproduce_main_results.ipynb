{
 "cells": [
  {
   "cell_type": "code",
   "execution_count": null,
   "metadata": {},
   "outputs": [],
   "source": [
    "import os,sys\n",
    "import pickle\n",
    "import warnings\n",
    "from demo.demo_utils import demo_util\n",
    "warnings.filterwarnings(\"ignore\")"
   ]
  },
  {
   "cell_type": "markdown",
   "metadata": {},
   "source": [
    "# Demo on RT_Bench"
   ]
  },
  {
   "cell_type": "code",
   "execution_count": null,
   "metadata": {},
   "outputs": [],
   "source": [
    "# name of the benchmark\n",
    "benchmark_name = 'rt_bench'\n",
    "train_corpus_name = 'rt_train'\n",
    "\n",
    "# load SDC list\n",
    "sdc_list_fname = f'./demo/{train_corpus_name}_sdc.pickle'\n",
    "with open(sdc_list_fname, 'rb') as file:\n",
    "    sdc_list = pickle.load(file)      \n",
    "    \n",
    "# apply SDC on the benchmark and obtain detected errors\n",
    "benchmark = demo_util.load_corpus(benchmark_name)\n",
    "detect_results = demo_util.apply_sdc(sdc_list, benchmark)"
   ]
  },
  {
   "cell_type": "code",
   "execution_count": null,
   "metadata": {},
   "outputs": [],
   "source": [
    "# print the top-10 reported errors, sorted by their confidence\n",
    "detect_results.sort_values('conf', ascending=False)[['header', 'dist_val', 'outlier', 'conf']].head(10)"
   ]
  },
  {
   "cell_type": "code",
   "execution_count": null,
   "metadata": {},
   "outputs": [],
   "source": [
    "demo_util.process_results(detect_results, benchmark)\n",
    "fig = demo_util.plot_pr_curves()\n",
    "fig.savefig(f'./results/{train_corpus_name}_{benchmark_name}_prcurve.pdf')"
   ]
  },
  {
   "cell_type": "markdown",
   "metadata": {},
   "source": [
    "# Demo on ST_Bench"
   ]
  },
  {
   "cell_type": "code",
   "execution_count": null,
   "metadata": {},
   "outputs": [],
   "source": [
    "# name of the benchmark\n",
    "benchmark_name = 'st_bench'\n",
    "train_corpus_name = 'rt_train'\n",
    "\n",
    "# load SDC list\n",
    "sdc_list_fname = f'./demo/{train_corpus_name}_sdc.pickle'\n",
    "with open(sdc_list_fname, 'rb') as file:\n",
    "    sdc_list = pickle.load(file)      \n",
    "    \n",
    "# apply SDC on the benchmark and obtain detected errors\n",
    "benchmark = demo_util.load_corpus(benchmark_name)\n",
    "detect_results = demo_util.apply_sdc(sdc_list, benchmark)"
   ]
  },
  {
   "cell_type": "code",
   "execution_count": null,
   "metadata": {},
   "outputs": [],
   "source": [
    "# print the top-10 reported errors, sorted by their confidence\n",
    "detect_results.sort_values('conf', ascending=False)[['header', 'dist_val', 'outlier', 'conf']].head(10)"
   ]
  },
  {
   "cell_type": "code",
   "execution_count": null,
   "metadata": {},
   "outputs": [],
   "source": [
    "demo_util.process_results(detect_results, benchmark)\n",
    "fig = demo_util.plot_pr_curves()\n",
    "fig.savefig(f'./results/{train_corpus_name}_{benchmark_name}_prcurve.pdf')"
   ]
  }
 ],
 "metadata": {
  "kernelspec": {
   "display_name": "Python 3",
   "language": "python",
   "name": "python3"
  },
  "language_info": {
   "codemirror_mode": {
    "name": "ipython",
    "version": 3
   },
   "file_extension": ".py",
   "mimetype": "text/x-python",
   "name": "python",
   "nbconvert_exporter": "python",
   "pygments_lexer": "ipython3",
   "version": "3.7.16"
  }
 },
 "nbformat": 4,
 "nbformat_minor": 2
}
