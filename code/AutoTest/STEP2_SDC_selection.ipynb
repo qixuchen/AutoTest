{
 "cells": [
  {
   "cell_type": "code",
   "execution_count": 1,
   "metadata": {},
   "outputs": [
    {
     "name": "stderr",
     "output_type": "stream",
     "text": [
      "unable to import 'smart_open.gcs', disabling that module\n"
     ]
    }
   ],
   "source": [
    "import shutil\n",
    "import os, pickle\n",
    "from config import config\n",
    "from func import load_corpus\n",
    "from rule_selection_func import rule_selection_func"
   ]
  },
  {
   "cell_type": "code",
   "execution_count": null,
   "metadata": {},
   "outputs": [],
   "source": [
    "validate = load_corpus.load_corpus('synthetic')\n",
    "\n",
    "rule_corpus = 'Tablib_Sample_Large'\n",
    "rule_type_list = ['embed', 'sbert', 'cta', 'doduo', 'pattern', 'pyfunc', 'validator']\n",
    "\n",
    "# these are for accelerating the computation of sbert and doduo rules\n",
    "# set them to where the intermediate results are stored (or where they will be stored if they are not available yet)\n",
    "sbert_dist_val_embeddings_fname = os.path.join(config.dir.storage_root_dir, config.dir.storage_root.sbert, f'{load_corpus.CORPUS_NAME}_dist_val_embeddings.pkl')\n",
    "doduo_intermediate_result_dir = os.path.join(config.dir.storage_root_dir, config.dir.storage_root.doduo)\n",
    "doduo_dist_val_scores_fname = f'{load_corpus.CORPUS_NAME}_dist_val_scores.pickle'\n",
    "\n",
    "rule_outlier_results = rule_selection_func.rule_utility_compute(validate, rule_corpus, rule_type_list, \n",
    "                                                                sbert_dist_val_embeddings_fname, doduo_intermediate_result_dir, doduo_dist_val_scores_fname)"
   ]
  },
  {
   "cell_type": "code",
   "execution_count": 3,
   "metadata": {},
   "outputs": [],
   "source": [
    "results_file_path = os.path.join(config.dir.storage_root_dir, config.dir.storage_root.validate_results, f'{load_corpus.CORPUS_NAME}_rule_{rule_corpus}_results.pickle')\n",
    "with open(results_file_path, 'wb') as file:\n",
    "    pickle.dump(rule_outlier_results, file)"
   ]
  },
  {
   "cell_type": "code",
   "execution_count": 4,
   "metadata": {},
   "outputs": [],
   "source": [
    "results_file_path = os.path.join(config.dir.storage_root_dir, config.dir.storage_root.validate_results, f'{load_corpus.CORPUS_NAME}_rule_{rule_corpus}_results.pickle')\n",
    "with open(results_file_path, 'rb') as file:\n",
    "    rule_outlier_results = pickle.load(file) "
   ]
  },
  {
   "cell_type": "code",
   "execution_count": 5,
   "metadata": {},
   "outputs": [],
   "source": [
    "rule_fname_list = [os.path.join(config.dir.project_base_dir, config.dir.project_base.sdc_output, f'{rule_corpus}_{rule_type}.pickle') for rule_type in rule_type_list]\n",
    "rule_list = []\n",
    "for rule_fname in rule_fname_list:\n",
    "    with open(rule_fname, 'rb') as file:\n",
    "        rule_list += pickle.load(file)"
   ]
  },
  {
   "cell_type": "code",
   "execution_count": null,
   "metadata": {},
   "outputs": [],
   "source": [
    "# fine_selection\n",
    "\n",
    "fine_select_params = {\n",
    "    'cohenh_thres': 0.8,\n",
    "    'conf_thres': 0.1,\n",
    "    'num_rule_thres': 500,\n",
    "    'significance_thres': 0.08/100000,\n",
    "    'delta': 0.0001,\n",
    "    'num_repeat_for_eval': 1000,\n",
    "}\n",
    "\n",
    "randomize_rounding_selection = rule_selection_func.fine_selection(rule_list, rule_outlier_results, fine_select_params)\n",
    "selected_rules = randomize_rounding_selection()[0]"
   ]
  },
  {
   "cell_type": "code",
   "execution_count": 7,
   "metadata": {},
   "outputs": [
    {
     "name": "stdout",
     "output_type": "stream",
     "text": [
      "# selected SDC: 504\n",
      "[(('cta', 'state', 0.9, 0.15000000000000002), ('cta', 0), 2.3716958503205468, 0.02530004952529478, (0, 148, 256195, 42056)), (('cta', 'state', 0.9, 0.15000000000000002), ('cta', 0.002), 2.951366517646344, 0.02530004952529478, (0, 148, 295561, 2690)), (('cta', 'category', 0.8, 0.15000000000000002), ('cta', 0.002), 2.7036390799841046, 0.05780610513250667, (2, 120, 295836, 2441)), (('cta', 'country', 0.8, 0.7000000000000001), ('cta', 0), 1.9686467508191234, 0.060802523903021044, (22, 519, 256173, 41685)), (('cta', 'region', 0.8, 0.15000000000000002), ('cta', 0), 2.064106421985278, 0.06664488090027204, (3, 125, 256192, 42079)), (('cta', 'name', 0.8, 0.25), ('cta', 0), 1.963340494092737, 0.06723431717573151, (15, 347, 256180, 41857)), (('cta', 'region', 0.8, 0.1), ('cta', 0), 2.0970418611723227, 0.05367103787397927, (3, 157, 256192, 42047)), (('cta', 'county', 0.8, 0.1), ('cta', 0), 2.0379136553755246, 0.06877967448824501, (4, 141, 256192, 42062)), (('cta', 'position', 0.8, 0.1), ('cta', 0), 1.9726016424951114, 0.09652657175875834, (4, 98, 256193, 42104)), (('cta', 'region', 0.8, 0.2), ('cta', 0), 2.0930657741777923, 0.06742445396355932, (2, 102, 256193, 42102))]\n"
     ]
    }
   ],
   "source": [
    "print(f'# selected SDC: {len(selected_rules)}')\n",
    "print(selected_rules[:10])"
   ]
  }
 ],
 "metadata": {
  "kernelspec": {
   "display_name": "Python 3",
   "language": "python",
   "name": "python3"
  },
  "language_info": {
   "codemirror_mode": {
    "name": "ipython",
    "version": 3
   },
   "file_extension": ".py",
   "mimetype": "text/x-python",
   "name": "python",
   "nbconvert_exporter": "python",
   "pygments_lexer": "ipython3",
   "version": "3.7.16"
  }
 },
 "nbformat": 4,
 "nbformat_minor": 2
}
