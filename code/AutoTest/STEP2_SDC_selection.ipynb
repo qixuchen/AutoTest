{
 "cells": [
  {
   "cell_type": "code",
   "execution_count": null,
   "metadata": {},
   "outputs": [],
   "source": [
    "import shutil\n",
    "import os, pickle\n",
    "from config import config\n",
    "from func import load_corpus\n",
    "from rule_selection_func import rule_selection_func"
   ]
  },
  {
   "cell_type": "code",
   "execution_count": null,
   "metadata": {},
   "outputs": [],
   "source": [
    "validate = load_corpus.load_corpus('PBICSV_validate')\n",
    "rule_corpus = 'PBICSV'\n",
    "rule_type_list = ['embed', 'sbert', 'cta', 'doduo', 'pattern', 'pyfunc', 'validator']\n",
    "\n",
    "# these are for accelerating the computation of sbert and doduo rules\n",
    "# set them to where the intermediate results are stored (or where they will be stored if they are not available yet)\n",
    "sbert_dist_val_embeddings_fname = os.path.join(config.dir.storage_root_dir, config.dir.storage_root.sbert, f'{load_corpus.CORPUS_NAME}_dist_val_embeddings.pkl')\n",
    "doduo_intermediate_result_dir = os.path.join(config.dir.storage_root_dir, config.dir.storage_root.doduo)\n",
    "doduo_dist_val_scores_fname = f'{load_corpus.CORPUS_NAME}_dist_val_scores.pickle'\n",
    "\n",
    "rule_outlier_results = rule_selection_func.rule_utility_compute(validate, rule_corpus, rule_type_list, \n",
    "                                                                sbert_dist_val_embeddings_fname, doduo_intermediate_result_dir, doduo_dist_val_scores_fname)"
   ]
  },
  {
   "cell_type": "code",
   "execution_count": null,
   "metadata": {},
   "outputs": [],
   "source": [
    "results_file_path = os.path.join(config.dir.storage_root_dir, config.dir.storage_root.validate_results, f'{load_corpus.CORPUS_NAME}_rule_{rule_corpus}_results.pickle')\n",
    "with open(results_file_path, 'wb') as file:\n",
    "    pickle.dump(rule_outlier_results, file)"
   ]
  },
  {
   "cell_type": "code",
   "execution_count": null,
   "metadata": {},
   "outputs": [],
   "source": [
    "results_file_path = os.path.join(config.dir.storage_root_dir, config.dir.storage_root.validate_results, f'{load_corpus.CORPUS_NAME}_rule_{rule_corpus}_results.pickle')\n",
    "with open(results_file_path, 'rb') as file:\n",
    "    rule_outlier_results = pickle.load(file) "
   ]
  },
  {
   "cell_type": "code",
   "execution_count": null,
   "metadata": {},
   "outputs": [],
   "source": [
    "rule_fname_list = [os.path.join(config.dir.project_base_dir, config.dir.project_base.sdc_output, f'{rule_corpus}_{rule_type}.pickle') for rule_type in rule_type_list]\n",
    "rule_list = []\n",
    "for rule_fname in rule_fname_list:\n",
    "    with open(rule_fname, 'rb') as file:\n",
    "        rule_list += pickle.load(file)"
   ]
  },
  {
   "cell_type": "code",
   "execution_count": null,
   "metadata": {},
   "outputs": [],
   "source": [
    "# # coarse_selection\n",
    "\n",
    "# coarse_select_params = {\n",
    "#     'cohenh_thres': 0.8,\n",
    "#     'conf_thres': 0.1,\n",
    "#     'num_rule_thres': 500,\n",
    "#     'significance_thres': 0.08/100000,\n",
    "#     'num_repeat_for_eval': 1000\n",
    "# }\n",
    "\n",
    "# randomize_rounding_selection = rule_selection_func.coarse_selection(rule_list, rule_outlier_results, coarse_select_params)\n",
    "# selected_rules = randomize_rounding_selection()[0]"
   ]
  },
  {
   "cell_type": "code",
   "execution_count": null,
   "metadata": {},
   "outputs": [],
   "source": [
    "# cohenh_thres = coarse_select_params['cohenh_thres']\n",
    "# cost_thres = coarse_select_params['conf_thres']\n",
    "# num_rule_thres = coarse_select_params['num_rule_thres']\n",
    "# directory = f'/datadrive/qixu/coarse_select_rule/rule_{rule_corpus}_cohen_h_{cohenh_thres}_wilson_{cost_thres}_num_rule_{num_rule_thres}'\n",
    "# if os.path.exists(directory):\n",
    "#     shutil.rmtree(directory) \n",
    "# os.makedirs(directory)\n",
    "# for i in range(20):\n",
    "#     selected_rules = randomize_rounding_selection()[0]\n",
    "#     fine_select_rule_path = os.path.join(directory, f'{i}.pickle')\n",
    "#     with open(fine_select_rule_path, 'wb') as file:\n",
    "#         pickle.dump(selected_rules, file)\n",
    "#     print(fine_select_rule_path)"
   ]
  },
  {
   "cell_type": "code",
   "execution_count": null,
   "metadata": {},
   "outputs": [],
   "source": [
    "# results_file_path = f'/datadrive/qixu/validate_results/{load_corpus.CORPUS_NAME}_rule_{rule_corpus}_results.pickle'\n",
    "# with open(results_file_path, 'rb') as file:\n",
    "#     rule_outlier_results = pickle.load(file) "
   ]
  },
  {
   "cell_type": "code",
   "execution_count": null,
   "metadata": {},
   "outputs": [],
   "source": [
    "# fine_selection\n",
    "\n",
    "fine_select_params = {\n",
    "    'cohenh_thres': 0.8,\n",
    "    'conf_thres': 0.1,\n",
    "    'num_rule_thres': 500,\n",
    "    'significance_thres': 0.08/100000,\n",
    "    'delta': 0.0001,\n",
    "    'num_repeat_for_eval': 1000,\n",
    "}\n",
    "\n",
    "randomize_rounding_selection = rule_selection_func.fine_selection(rule_list, rule_outlier_results, fine_select_params)\n",
    "selected_rules = randomize_rounding_selection()[0]"
   ]
  },
  {
   "cell_type": "code",
   "execution_count": null,
   "metadata": {},
   "outputs": [],
   "source": [
    "cohenh_thres = fine_select_params['cohenh_thres']\n",
    "cost_thres = fine_select_params['conf_thres']\n",
    "num_rule_thres = fine_select_params['num_rule_thres']\n",
    "directory = os.path.join(config.dir.storage_root_dir, config.dir.storage_root.fine_select_rule,  f'rule_{rule_corpus}_cohen_h_{cohenh_thres}_wilson_{cost_thres}_num_rule_{num_rule_thres}')\n",
    "if os.path.exists(directory):\n",
    "    shutil.rmtree(directory) \n",
    "os.makedirs(directory)\n",
    "for i in range(20):\n",
    "    selected_rules = randomize_rounding_selection()[0]\n",
    "    fine_select_rule_path = os.path.join(directory, f'{i}.pickle')\n",
    "    with open(fine_select_rule_path, 'wb') as file:\n",
    "        pickle.dump(selected_rules, file)\n",
    "    print(fine_select_rule_path)"
   ]
  }
 ],
 "metadata": {
  "kernelspec": {
   "display_name": "Python 3",
   "language": "python",
   "name": "python3"
  },
  "language_info": {
   "codemirror_mode": {
    "name": "ipython",
    "version": 3
   },
   "file_extension": ".py",
   "mimetype": "text/x-python",
   "name": "python",
   "nbconvert_exporter": "python",
   "pygments_lexer": "ipython3",
   "version": "3.7.16"
  }
 },
 "nbformat": 4,
 "nbformat_minor": 2
}
