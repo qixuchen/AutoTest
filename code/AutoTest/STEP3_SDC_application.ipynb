{
 "cells": [
  {
   "cell_type": "code",
   "execution_count": null,
   "metadata": {},
   "outputs": [],
   "source": [
    "import os\n",
    "import pickle\n",
    "import pandas as pd\n",
    "from config import config\n",
    "from func import load_corpus\n",
    "from util import utils, sbert_utils, doduo_utils\n",
    "from check import embed_check, sherlock_check, doduo_check, pattern_check, sbert_check, pyfunc_check, validator_check"
   ]
  },
  {
   "cell_type": "code",
   "execution_count": null,
   "metadata": {},
   "outputs": [],
   "source": [
    "benchmark = load_corpus.load_corpus('labeled_benchmark')"
   ]
  },
  {
   "cell_type": "code",
   "execution_count": null,
   "metadata": {},
   "outputs": [],
   "source": [
    "RULE_CORPUS = 'PBICSV'\n",
    "cohenh_thres = 0.8\n",
    "conf_thres = 0.1\n",
    "num_rule_thres = 500\n",
    "sbert_dist_val_embeddings_fname = os.path.join(config.dir.storage_root_dir, config.dir.storage_root.sbert, f'{load_corpus.CORPUS_NAME}_dist_val_embeddings.pkl')\n",
    "doduo_intermediate_result_dir = os.path.join(config.dir.storage_root_dir, config.dir.storage_root.doduo)\n",
    "doduo_dist_val_scores_fname = os.path.join(config.dir.storage_root_dir, config.dir.storage_root.doduo, f'{load_corpus.CORPUS_NAME}_dist_val_scores.pickle')\n",
    "\n",
    "rule_list_fname = os.path.join(config.dir.storage_root_dir, config.dir.storage_root.fine_select_rule, f'rule_{RULE_CORPUS}_cohen_h_{cohenh_thres}_wilson_{conf_thres}_num_rule_{num_rule_thres}/0.pickle')"
   ]
  },
  {
   "cell_type": "code",
   "execution_count": null,
   "metadata": {},
   "outputs": [],
   "source": [
    "with open(rule_list_fname, 'rb') as file:\n",
    "    rule_list = pickle.load(file)      \n",
    "pre_list = list(set([r[0] for r in rule_list]))"
   ]
  },
  {
   "cell_type": "code",
   "execution_count": null,
   "metadata": {},
   "outputs": [],
   "source": [
    "sbert_dist_val_embeddings = None\n",
    "doduo_dist_val_scores = None\n",
    "\n",
    "if any([rule[0][0] == 'sbert' for rule in rule_list]):\n",
    "    if not os.path.exists(sbert_dist_val_embeddings_fname):\n",
    "        print(\"SentenceBERT embedding file not found, computing ...\")\n",
    "        sbert_dist_val_embeddings = sbert_utils.dist_val_embeddings_parallel(benchmark, n_proc = 8)\n",
    "        with open(sbert_dist_val_embeddings_fname, 'wb') as file:\n",
    "            pickle.dump(sbert_dist_val_embeddings, file)\n",
    "            \n",
    "    with open(sbert_dist_val_embeddings_fname, 'rb') as file:\n",
    "        sbert_dist_val_embeddings = pickle.load(file)\n",
    "\n",
    "if any([rule[0][0] == 'doduo' for rule in rule_list]):\n",
    "    if not os.path.exists(doduo_dist_val_scores_fname):\n",
    "        print(\"Doduo preprocessing result not found, computing ...\")\n",
    "        doduo_utils.dist_val_scores_parallel(benchmark, doduo_intermediate_result_dir, doduo_dist_val_scores_fname, n_proc = 15)\n",
    "    doduo_dist_val_scores = pd.read_pickle(doduo_dist_val_scores_fname)"
   ]
  },
  {
   "cell_type": "code",
   "execution_count": null,
   "metadata": {},
   "outputs": [],
   "source": [
    "test_matching_dict = utils.build_matching_idx_dict_from_pre_list_parallel(benchmark, pre_list, n_proc = 32, sbert_dist_val_embeddings = sbert_dist_val_embeddings, doduo_dist_val_scores = doduo_dist_val_scores)"
   ]
  },
  {
   "cell_type": "code",
   "execution_count": null,
   "metadata": {},
   "outputs": [],
   "source": [
    "results = []\n",
    "if any([rule[1][0] == 'cta' for rule in rule_list]):\n",
    "    sub_rule_list = [rule for rule in rule_list if rule[1][0] == 'cta']\n",
    "    results += sherlock_check.sherlock_check_parallel(benchmark, test_matching_dict, sub_rule_list, n_proc = 48)\n",
    "if any([rule[1][0] == 'doduo' for rule in rule_list]):\n",
    "    sub_rule_list = [rule for rule in rule_list if rule[1][0] == 'doduo']\n",
    "    results += doduo_check.doduo_check_parallel(benchmark, test_matching_dict, sub_rule_list, n_proc = 15, doduo_dist_val_scores = doduo_dist_val_scores)\n",
    "if any([rule[1][0] == 'embed' for rule in rule_list]):\n",
    "    sub_rule_list = [rule for rule in rule_list if rule[1][0] == 'embed']\n",
    "    results += embed_check.embed_check_parallel(benchmark, test_matching_dict, sub_rule_list, n_proc = 48)\n",
    "if any([rule[1][0] == 'sbert' for rule in rule_list]):\n",
    "    sub_rule_list = [rule for rule in rule_list if rule[1][0] == 'sbert']\n",
    "    results += sbert_check.sbert_check_parallel(benchmark, test_matching_dict, sub_rule_list, n_proc = 8, sbert_dist_val_embeddings = sbert_dist_val_embeddings)\n",
    "if any([rule[1][0] == 'pattern' for rule in rule_list]):\n",
    "    sub_rule_list = [rule for rule in rule_list if rule[1][0] == 'pattern']\n",
    "    results += pattern_check.pattern_check(benchmark, test_matching_dict, sub_rule_list)\n",
    "if any([rule[1][0] == 'pyfunc' for rule in rule_list]):\n",
    "    sub_rule_list = [rule for rule in rule_list if rule[1][0] == 'pyfunc']\n",
    "    results += pyfunc_check.pyfunc_check(benchmark, test_matching_dict, sub_rule_list)\n",
    "if any([rule[1][0] == 'validator' for rule in rule_list]):\n",
    "    sub_rule_list = [rule for rule in rule_list if rule[1][0] == 'validator']\n",
    "    results += validator_check.validator_check(benchmark, test_matching_dict, sub_rule_list)"
   ]
  },
  {
   "cell_type": "code",
   "execution_count": null,
   "metadata": {},
   "outputs": [],
   "source": [
    "final_res = pd.DataFrame()\n",
    "for r in results:\n",
    "    for idx, row in r.iterrows():\n",
    "        if idx not in final_res.index:\n",
    "            final_res = final_res.append(row)\n",
    "        else:\n",
    "            if row['conf'] < final_res.loc[idx, 'conf']:\n",
    "                final_res.loc[idx] = row\n",
    "if len(final_res) > 0:  \n",
    "    final_res['conf'] = 1 - final_res['conf']\n",
    "final_res.sort_values('conf', ascending = False)"
   ]
  }
 ],
 "metadata": {
  "kernelspec": {
   "display_name": "Python 3",
   "language": "python",
   "name": "python3"
  },
  "language_info": {
   "codemirror_mode": {
    "name": "ipython",
    "version": 3
   },
   "file_extension": ".py",
   "mimetype": "text/x-python",
   "name": "python",
   "nbconvert_exporter": "python",
   "pygments_lexer": "ipython3",
   "version": "3.7.16"
  }
 },
 "nbformat": 4,
 "nbformat_minor": 2
}
