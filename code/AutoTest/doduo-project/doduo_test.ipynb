{
 "cells": [
  {
   "cell_type": "code",
   "execution_count": 1,
   "metadata": {},
   "outputs": [],
   "source": [
    "import argparse\n",
    "import pandas as pd\n",
    "from doduo import Doduo"
   ]
  },
  {
   "cell_type": "code",
   "execution_count": 2,
   "metadata": {},
   "outputs": [
    {
     "name": "stderr",
     "output_type": "stream",
     "text": [
      "Some weights of the model checkpoint at bert-base-uncased were not used when initializing BertForMultiOutputClassification: ['cls.predictions.transform.dense.weight', 'cls.predictions.transform.dense.bias', 'cls.predictions.bias', 'cls.seq_relationship.bias', 'cls.predictions.transform.LayerNorm.bias', 'cls.predictions.transform.LayerNorm.weight', 'cls.seq_relationship.weight']\n",
      "- This IS expected if you are initializing BertForMultiOutputClassification from the checkpoint of a model trained on another task or with another architecture (e.g. initializing a BertForSequenceClassification model from a BertForPreTraining model).\n",
      "- This IS NOT expected if you are initializing BertForMultiOutputClassification from the checkpoint of a model that you expect to be exactly identical (initializing a BertForSequenceClassification model from a BertForSequenceClassification model).\n",
      "Some weights of BertForMultiOutputClassification were not initialized from the model checkpoint at bert-base-uncased and are newly initialized: ['classifier.weight', 'classifier.bias']\n",
      "You should probably TRAIN this model on a down-stream task to be able to use it for predictions and inference.\n"
     ]
    }
   ],
   "source": [
    "# Load Doduo model\n",
    "args = argparse.Namespace\n",
    "args.model = \"viznet\" # or args.model = \"viznet\"\n",
    "doduo = Doduo(args)\n",
    "\n",
    "  \n",
    "# Load sample tables\n",
    "df1 = pd.read_csv(\"sample_tables/sample_table1.csv\", index_col=0)\n",
    "df2 = pd.read_csv(\"sample_tables/sample_table2.csv\", index_col=0)\n"
   ]
  },
  {
   "cell_type": "code",
   "execution_count": 29,
   "metadata": {},
   "outputs": [
    {
     "name": "stdout",
     "output_type": "stream",
     "text": [
      "['name', 'team', 'position', 'class', 'weight', 'location']\n",
      "['rank', 'name', 'team', 'family', 'result', 'notes']\n"
     ]
    }
   ],
   "source": [
    "# Sample 1: Column annotation\n",
    "annot_df1 = doduo.annotate_columns(df1)\n",
    "print(annot_df1.coltypes)\n",
    "\n",
    "\n",
    "# Sample 2: Column annotation\n",
    "annot_df2 = doduo.annotate_columns(df2)\n",
    "print(annot_df2.coltypes)"
   ]
  },
  {
   "cell_type": "code",
   "execution_count": 14,
   "metadata": {},
   "outputs": [
    {
     "name": "stdout",
     "output_type": "stream",
     "text": [
      "tensor([[-4.2609, -3.7176, -1.6843,  0.5936, -2.3673, -0.3433, -2.4066, -5.1281,\n",
      "         -6.5042,  0.7195, -6.1208,  0.3868,  0.5182,  0.9308, -3.0500, -1.0673,\n",
      "         -2.0026, -6.7575, -1.9356, -1.6616, -2.3808, -2.3808, 14.0474, -3.9045,\n",
      "         -3.4772, -2.3577, -2.8932, -1.8505, -4.0220,  1.4990, -1.3319, -2.5387,\n",
      "         -6.4429, -6.1975, -3.0770, -0.6420, -1.6923, -4.6747, -2.7472, -2.3600,\n",
      "         -7.6884, -6.1316, -4.3773,  1.7695,  1.6573, -1.2483,  2.0974, -0.5095,\n",
      "         -2.2306, -5.1907, -0.3551, -2.3694,  0.4164, -0.4670, -3.7033, -2.1218,\n",
      "         -0.5846, -2.2462, -2.5029, -2.8007,  0.2935, -1.6319,  3.6038, -4.4532,\n",
      "         -3.7219, -0.4101, -5.8538, -1.9287,  0.4624, -3.1876,  1.4049, -0.0153,\n",
      "          0.6758,  3.7313, -3.2208, -0.9225, -1.0628, -0.0982]],\n",
      "       grad_fn=<CopySlices>)\n",
      "tensor([22])\n",
      "tensor([14.0474], grad_fn=<IndexBackward0>)\n",
      "['country']\n"
     ]
    }
   ],
   "source": [
    "df = pd.DataFrame(['japan'])\n",
    "annot_df = doduo.annotate_columns(df)\n",
    "print(annot_df.predvec)\n",
    "print(annot_df.coltypeidx)\n",
    "print(annot_df.labelscore)\n",
    "print(annot_df.coltypes)"
   ]
  },
  {
   "cell_type": "code",
   "execution_count": 15,
   "metadata": {},
   "outputs": [
    {
     "data": {
      "text/plain": [
       "tensor(1.6573, grad_fn=<SelectBackward0>)"
      ]
     },
     "execution_count": 15,
     "metadata": {},
     "output_type": "execute_result"
    }
   ],
   "source": [
    "annot_df.predvec[0][44]"
   ]
  },
  {
   "cell_type": "code",
   "execution_count": null,
   "metadata": {},
   "outputs": [],
   "source": [
    "# sato_coltypes = [\n",
    "#     \"address\", \"affiliate\", \"affiliation\", \"age\", \"album\", \"area\", \"artist\",\n",
    "#     \"birthDate\", \"birthPlace\", \"brand\", \"capacity\", \"category\", \"city\",\n",
    "#     \"class\", \"classification\", \"club\", \"code\", \"collection\", \"command\",\n",
    "#     \"company\", \"component\", \"continent\", \"country\", \"county\", \"creator\",\n",
    "#     \"credit\", \"currency\", \"day\", \"depth\", \"description\", \"director\",\n",
    "#     \"duration\", \"education\", \"elevation\", \"family\", \"fileSize\", \"format\",\n",
    "#     \"gender\", \"genre\", \"grades\", \"isbn\", \"industry\", \"jockey\", \"language\",\n",
    "#     \"location\", \"manufacturer\", \"name\", \"nationality\", \"notes\", \"operator\",\n",
    "#     \"order\", \"organisation\", \"origin\", \"owner\", \"person\", \"plays\", \"position\",\n",
    "#     \"product\", \"publisher\", \"range\", \"rank\", \"ranking\", \"region\", \"religion\",\n",
    "#     \"requirement\", \"result\", \"sales\", \"service\", \"sex\", \"species\", \"state\",\n",
    "#     \"status\", \"symbol\", \"team\", \"teamName\", \"type\", \"weight\", \"year\"\n",
    "# ]"
   ]
  }
 ],
 "metadata": {
  "kernelspec": {
   "display_name": "Python 3",
   "language": "python",
   "name": "python3"
  },
  "language_info": {
   "codemirror_mode": {
    "name": "ipython",
    "version": 3
   },
   "file_extension": ".py",
   "mimetype": "text/x-python",
   "name": "python",
   "nbconvert_exporter": "python",
   "pygments_lexer": "ipython3",
   "version": "3.7.16"
  }
 },
 "nbformat": 4,
 "nbformat_minor": 2
}
