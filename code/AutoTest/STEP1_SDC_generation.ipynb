{
 "cells": [
  {
   "cell_type": "code",
   "execution_count": null,
   "metadata": {},
   "outputs": [],
   "source": [
    "import warnings\n",
    "warnings.filterwarnings(\"ignore\")\n",
    "import os, pickle\n",
    "from config import config\n",
    "from func import load_corpus\n",
    "from train import glove, sbert, sherlock, doduo, pattern, pyfunc, validator"
   ]
  },
  {
   "cell_type": "code",
   "execution_count": null,
   "metadata": {},
   "outputs": [],
   "source": [
    "train = load_corpus.load_corpus('PBICSV')\n",
    "print(f\"training set size: {len(train)}\")"
   ]
  },
  {
   "cell_type": "code",
   "execution_count": null,
   "metadata": {},
   "outputs": [],
   "source": [
    "train['val'].apply(len).median()"
   ]
  },
  {
   "cell_type": "code",
   "execution_count": null,
   "metadata": {},
   "outputs": [],
   "source": [
    "rule_result_dir = os.path.join(config.dir.project_base_dir, config.dir.project_base.sdc_output)\n",
    "WRITE_RULE = True\n",
    "\n",
    "def write_rule_to_file(rule_list, rule_result_dir, rule_type):\n",
    "    rule_fname = os.path.join(rule_result_dir, f'{load_corpus.CORPUS_NAME}_{rule_type}.pickle')\n",
    "    with open(rule_fname, 'wb') as file:\n",
    "        pickle.dump(rule_list, file)\n",
    "        \n",
    "coverage_thres = 0.0003"
   ]
  },
  {
   "cell_type": "code",
   "execution_count": null,
   "metadata": {},
   "outputs": [],
   "source": [
    "# glove rules\n",
    "\n",
    "glove_params = {\n",
    "    'coverage_thres': coverage_thres,\n",
    "    'sample_size': 25,\n",
    "    'ratio_list': [0.8],\n",
    "    'lb_list': [3 + 0.5 * i for i in range(9)],\n",
    "    'ub_list': [5 + 0.5 * i for i in range(15)],\n",
    "    'n_proc': 48\n",
    "}\n",
    "\n",
    "rule_list = glove.rule_generate(train, glove_params)\n",
    "if WRITE_RULE:\n",
    "    write_rule_to_file(rule_list, rule_result_dir, 'embed')"
   ]
  },
  {
   "cell_type": "code",
   "execution_count": null,
   "metadata": {},
   "outputs": [],
   "source": [
    "# sbert rules\n",
    "\n",
    "sbert_params = {\n",
    "    'coverage_thres': coverage_thres,\n",
    "    'sample_size': 40,\n",
    "    'ratio_list': [0.8],\n",
    "    'lb_list': [0.8 + 0.1 * i for i in range(8)],\n",
    "    'ub_list': [1.1 + 0.025 * i for i in range(17)],\n",
    "    'sbert_dist_val_embeddings_fname': os.path.join(config.dir.storage_root_dir, config.dir.storage_root.sbert, f'{load_corpus.CORPUS_NAME}_dist_val_embeddings.pkl'),\n",
    "    'n_proc': 6\n",
    "}\n",
    "\n",
    "rule_list = sbert.rule_generate(train, sbert_params)\n",
    "if WRITE_RULE:\n",
    "    write_rule_to_file(rule_list, rule_result_dir, 'sbert')"
   ]
  },
  {
   "cell_type": "code",
   "execution_count": null,
   "metadata": {},
   "outputs": [],
   "source": [
    "# sherlock rules\n",
    "\n",
    "sherlock_params = {\n",
    "    'coverage_thres': coverage_thres,\n",
    "    'ratio_list': [0.8, 0.9, 0.95],\n",
    "    'score_bars': [0.1 + 0.05 * i for i in range(15)],\n",
    "    'thres_list': [0, 0.002, 0.005, 0.007, 0.01, 0.02, 0.05, 0.07, 0.1, 0.15, 0.2, 0.25, 0.3],\n",
    "    'intermediate_result_dir': os.path.join(config.dir.storage_root_dir, config.dir.storage_root.sherlock),\n",
    "    'min_label_score_fname': f'{load_corpus.CORPUS_NAME}_min_scores_cta.pickle',\n",
    "    'n_proc': 32\n",
    "}\n",
    "\n",
    "rule_list = sherlock.rule_generate(train, sherlock_params)\n",
    "if WRITE_RULE:\n",
    "    write_rule_to_file(rule_list, rule_result_dir, 'cta')"
   ]
  },
  {
   "cell_type": "code",
   "execution_count": null,
   "metadata": {},
   "outputs": [],
   "source": [
    "# doduo rules\n",
    "\n",
    "doduo_params = {\n",
    "    'coverage_thres': coverage_thres,\n",
    "    'ratio_list': [0.8],\n",
    "    'score_bars': [4, 4.5],\n",
    "    'thres_list': [-2.5, -2, -1.5, -1],\n",
    "    'intermediate_result_dir': os.path.join(config.dir.storage_root_dir, config.dir.storage_root.doduo),\n",
    "    'dist_val_scores_fname': f'{load_corpus.CORPUS_NAME}_dist_val_scores.pickle',\n",
    "    'n_proc': 15\n",
    "}\n",
    "\n",
    "rule_list = doduo.rule_generate(train, doduo_params)\n",
    "if WRITE_RULE:\n",
    "    write_rule_to_file(rule_list, rule_result_dir, 'doduo')"
   ]
  },
  {
   "cell_type": "code",
   "execution_count": null,
   "metadata": {},
   "outputs": [],
   "source": [
    "# pattern rules\n",
    "\n",
    "pattern_params = {\n",
    "    'ratio_list': [0.8, 0.85, 0.9, 0.93, 0.95, 0.97, 0.98, 0.99],\n",
    "    'coverage_thres': coverage_thres,\n",
    "    'sample_size': 5000\n",
    "}\n",
    "\n",
    "rule_list = pattern.rule_generate(train, pattern_params)\n",
    "if WRITE_RULE:\n",
    "    write_rule_to_file(rule_list, rule_result_dir, 'pattern')"
   ]
  },
  {
   "cell_type": "code",
   "execution_count": null,
   "metadata": {},
   "outputs": [],
   "source": [
    "# pyfunc rules\n",
    "\n",
    "pyfunc_params = {\n",
    "    'type_list': ['url', 'ip', 'date', 'email'],\n",
    "    'ratio_list': [0.8, 0.85, 0.9, 0.93, 0.95, 0.97, 0.98, 0.99]\n",
    "}\n",
    "\n",
    "rule_list = pyfunc.rule_generate(train, pyfunc_params)\n",
    "if WRITE_RULE:\n",
    "    write_rule_to_file(rule_list, rule_result_dir, 'pyfunc')"
   ]
  },
  {
   "cell_type": "code",
   "execution_count": null,
   "metadata": {},
   "outputs": [],
   "source": [
    "# validator rules\n",
    "\n",
    "validator_params = {\n",
    "    'type_list': ['ip', 'email', 'url'],\n",
    "    'ratio_list': [0.8, 0.9],\n",
    "    'n_proc': 32\n",
    "}\n",
    "\n",
    "rule_list = validator.rule_generate(train, validator_params)\n",
    "if WRITE_RULE:\n",
    "    write_rule_to_file(rule_list, rule_result_dir, 'validator')"
   ]
  }
 ],
 "metadata": {
  "kernelspec": {
   "display_name": "Python 3",
   "language": "python",
   "name": "python3"
  },
  "language_info": {
   "codemirror_mode": {
    "name": "ipython",
    "version": 3
   },
   "file_extension": ".py",
   "mimetype": "text/x-python",
   "name": "python",
   "nbconvert_exporter": "python",
   "pygments_lexer": "ipython3",
   "version": "3.7.16"
  }
 },
 "nbformat": 4,
 "nbformat_minor": 2
}
